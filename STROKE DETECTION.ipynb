{
 "cells": [
  {
   "cell_type": "markdown",
   "id": "1e746f1c",
   "metadata": {},
   "source": [
    "# STROKE DETECTION USING MACHINE LEARNING"
   ]
  },
  {
   "cell_type": "markdown",
   "id": "9b258b62",
   "metadata": {},
   "source": [
    "# IMPORTING"
   ]
  },
  {
   "cell_type": "markdown",
   "id": "201db1f2",
   "metadata": {},
   "source": [
    "Import necessary libraries :"
   ]
  },
  {
   "cell_type": "code",
   "execution_count": 77,
   "id": "8a241232",
   "metadata": {},
   "outputs": [],
   "source": [
    "import pandas as pd\n",
    "import matplotlib.pyplot as plt\n",
    "from sklearn.model_selection import train_test_split\n",
    "from sklearn.preprocessing import StandardScaler\n",
    "from sklearn.metrics import confusion_matrix\n",
    "from sklearn.linear_model import LogisticRegression\n",
    "from sklearn.svm import LinearSVC\n",
    "from sklearn.tree import DecisionTreeClassifier\n",
    "from sklearn.ensemble import RandomForestClassifier\n",
    "from sklearn.naive_bayes import GaussianNB\n",
    "from sklearn.neighbors import KNeighborsClassifier\n",
    "import numpy as np\n",
    "import missingno as msno\n",
    "from imblearn.over_sampling import SMOTE\n",
    "from sklearn import metrics\n",
    "import warnings"
   ]
  },
  {
   "cell_type": "markdown",
   "id": "67af513f",
   "metadata": {},
   "source": [
    "Import heart stroke dataset :"
   ]
  },
  {
   "cell_type": "code",
   "execution_count": 78,
   "id": "2c2d15f9",
   "metadata": {},
   "outputs": [
    {
     "data": {
      "text/html": [
       "<div>\n",
       "<style scoped>\n",
       "    .dataframe tbody tr th:only-of-type {\n",
       "        vertical-align: middle;\n",
       "    }\n",
       "\n",
       "    .dataframe tbody tr th {\n",
       "        vertical-align: top;\n",
       "    }\n",
       "\n",
       "    .dataframe thead th {\n",
       "        text-align: right;\n",
       "    }\n",
       "</style>\n",
       "<table border=\"1\" class=\"dataframe\">\n",
       "  <thead>\n",
       "    <tr style=\"text-align: right;\">\n",
       "      <th></th>\n",
       "      <th>id</th>\n",
       "      <th>gender</th>\n",
       "      <th>age</th>\n",
       "      <th>hypertension</th>\n",
       "      <th>heart_disease</th>\n",
       "      <th>ever_married</th>\n",
       "      <th>work_type</th>\n",
       "      <th>Residence_type</th>\n",
       "      <th>avg_glucose_level</th>\n",
       "      <th>bmi</th>\n",
       "      <th>smoking_status</th>\n",
       "      <th>stroke</th>\n",
       "    </tr>\n",
       "  </thead>\n",
       "  <tbody>\n",
       "    <tr>\n",
       "      <th>0</th>\n",
       "      <td>9046</td>\n",
       "      <td>Male</td>\n",
       "      <td>67.0</td>\n",
       "      <td>0</td>\n",
       "      <td>1</td>\n",
       "      <td>Yes</td>\n",
       "      <td>Private</td>\n",
       "      <td>Urban</td>\n",
       "      <td>228.69</td>\n",
       "      <td>36.6</td>\n",
       "      <td>formerly smoked</td>\n",
       "      <td>1</td>\n",
       "    </tr>\n",
       "    <tr>\n",
       "      <th>1</th>\n",
       "      <td>51676</td>\n",
       "      <td>Female</td>\n",
       "      <td>61.0</td>\n",
       "      <td>0</td>\n",
       "      <td>0</td>\n",
       "      <td>Yes</td>\n",
       "      <td>Self-employed</td>\n",
       "      <td>Rural</td>\n",
       "      <td>202.21</td>\n",
       "      <td>NaN</td>\n",
       "      <td>never smoked</td>\n",
       "      <td>1</td>\n",
       "    </tr>\n",
       "    <tr>\n",
       "      <th>2</th>\n",
       "      <td>31112</td>\n",
       "      <td>Male</td>\n",
       "      <td>80.0</td>\n",
       "      <td>0</td>\n",
       "      <td>1</td>\n",
       "      <td>Yes</td>\n",
       "      <td>Private</td>\n",
       "      <td>Rural</td>\n",
       "      <td>105.92</td>\n",
       "      <td>32.5</td>\n",
       "      <td>never smoked</td>\n",
       "      <td>1</td>\n",
       "    </tr>\n",
       "    <tr>\n",
       "      <th>3</th>\n",
       "      <td>60182</td>\n",
       "      <td>Female</td>\n",
       "      <td>49.0</td>\n",
       "      <td>0</td>\n",
       "      <td>0</td>\n",
       "      <td>Yes</td>\n",
       "      <td>Private</td>\n",
       "      <td>Urban</td>\n",
       "      <td>171.23</td>\n",
       "      <td>34.4</td>\n",
       "      <td>smokes</td>\n",
       "      <td>1</td>\n",
       "    </tr>\n",
       "    <tr>\n",
       "      <th>4</th>\n",
       "      <td>1665</td>\n",
       "      <td>Female</td>\n",
       "      <td>79.0</td>\n",
       "      <td>1</td>\n",
       "      <td>0</td>\n",
       "      <td>Yes</td>\n",
       "      <td>Self-employed</td>\n",
       "      <td>Rural</td>\n",
       "      <td>174.12</td>\n",
       "      <td>24.0</td>\n",
       "      <td>never smoked</td>\n",
       "      <td>1</td>\n",
       "    </tr>\n",
       "  </tbody>\n",
       "</table>\n",
       "</div>"
      ],
      "text/plain": [
       "      id  gender   age  hypertension  heart_disease ever_married  \\\n",
       "0   9046    Male  67.0             0              1          Yes   \n",
       "1  51676  Female  61.0             0              0          Yes   \n",
       "2  31112    Male  80.0             0              1          Yes   \n",
       "3  60182  Female  49.0             0              0          Yes   \n",
       "4   1665  Female  79.0             1              0          Yes   \n",
       "\n",
       "       work_type Residence_type  avg_glucose_level   bmi   smoking_status  \\\n",
       "0        Private          Urban             228.69  36.6  formerly smoked   \n",
       "1  Self-employed          Rural             202.21   NaN     never smoked   \n",
       "2        Private          Rural             105.92  32.5     never smoked   \n",
       "3        Private          Urban             171.23  34.4           smokes   \n",
       "4  Self-employed          Rural             174.12  24.0     never smoked   \n",
       "\n",
       "   stroke  \n",
       "0       1  \n",
       "1       1  \n",
       "2       1  \n",
       "3       1  \n",
       "4       1  "
      ]
     },
     "execution_count": 78,
     "metadata": {},
     "output_type": "execute_result"
    }
   ],
   "source": [
    "stroke_data=pd.read_csv(r'.\\healthcare-dataset-stroke-data.csv')\n",
    "stroke_data.head()"
   ]
  },
  {
   "cell_type": "markdown",
   "id": "2c86b211",
   "metadata": {},
   "source": [
    "# EDA"
   ]
  },
  {
   "cell_type": "markdown",
   "id": "26569a5b",
   "metadata": {},
   "source": [
    "GENDER :"
   ]
  },
  {
   "cell_type": "code",
   "execution_count": 79,
   "id": "a23ff143",
   "metadata": {},
   "outputs": [
    {
     "data": {
      "text/plain": [
       "Female    2994\n",
       "Male      2115\n",
       "Other        1\n",
       "Name: gender, dtype: int64"
      ]
     },
     "execution_count": 79,
     "metadata": {},
     "output_type": "execute_result"
    }
   ],
   "source": [
    "count_gender=stroke_data['gender'].value_counts()\n",
    "count_gender"
   ]
  },
  {
   "cell_type": "code",
   "execution_count": 80,
   "id": "282b34ad",
   "metadata": {},
   "outputs": [
    {
     "data": {
      "image/png": "[encoded data removed]",
      "text/plain": [
       "<Figure size 432x288 with 1 Axes>"
      ]
     },
     "metadata": {},
     "output_type": "display_data"
    }
   ],
   "source": [
    "plt.pie(count_gender,labels=[\"Female\",\"Male\",\"Other\"],colors=[\"violet\",\"pink\",\"blue\"])\n",
    "plt.show()"
   ]
  },
  {
   "cell_type": "markdown",
   "id": "e79efecb",
   "metadata": {},
   "source": [
    "Insight : Total number of females in the data is higher than males."
   ]
  },
  {
   "cell_type": "markdown",
   "id": "362d8c34",
   "metadata": {},
   "source": [
    "Percentage of (male/female) getting stroke :"
   ]
  },
  {
   "cell_type": "code",
   "execution_count": 81,
   "id": "479dc395",
   "metadata": {},
   "outputs": [
    {
     "data": {
      "image/png": "[encoded data removed]",
      "text/plain": [
       "<Figure size 432x288 with 1 Axes>"
      ]
     },
     "metadata": {
      "needs_background": "light"
     },
     "output_type": "display_data"
    }
   ],
   "source": [
    "stroke_gender=((stroke_data[stroke_data['stroke'] == 1]['gender'].value_counts())/count_gender)*100\n",
    "plt.bar([\"Female\",\"Male\",\"Other\"],stroke_gender,color=[\"violet\",\"pink\",\"blue\"])\n",
    "plt.show()"
   ]
  },
  {
   "cell_type": "markdown",
   "id": "20466d31",
   "metadata": {},
   "source": [
    "Insight : Males have higher chances of getting a stroke than females but the difference in percentage is LOW."
   ]
  },
  {
   "cell_type": "markdown",
   "id": "4699a8bd",
   "metadata": {},
   "source": [
    "RESIDENCE TYPE :"
   ]
  },
  {
   "cell_type": "code",
   "execution_count": 82,
   "id": "d90d644f",
   "metadata": {},
   "outputs": [
    {
     "data": {
      "text/plain": [
       "Urban    2596\n",
       "Rural    2514\n",
       "Name: Residence_type, dtype: int64"
      ]
     },
     "execution_count": 82,
     "metadata": {},
     "output_type": "execute_result"
    }
   ],
   "source": [
    "count_residence=stroke_data['Residence_type'].value_counts()\n",
    "count_residence"
   ]
  },
  {
   "cell_type": "code",
   "execution_count": 83,
   "id": "8e46b46b",
   "metadata": {},
   "outputs": [
    {
     "data": {
      "image/png": "[encoded data removed]",
      "text/plain": [
       "<Figure size 432x288 with 1 Axes>"
      ]
     },
     "metadata": {},
     "output_type": "display_data"
    }
   ],
   "source": [
    "plt.pie(count_residence,labels =[\"Urban\",\"Rural\"],colors=[\"violet\",\"purple\"])\n",
    "plt.title(\"Distribution of urban and rural population :\")\n",
    "plt.show()"
   ]
  },
  {
   "cell_type": "markdown",
   "id": "d4e3b179",
   "metadata": {},
   "source": [
    "Insight : Urban Population is slightly higher than rural population in the data."
   ]
  },
  {
   "cell_type": "code",
   "execution_count": 84,
   "id": "777e7f22",
   "metadata": {},
   "outputs": [
    {
     "data": {
      "image/png": "[encoded data removed]",
      "text/plain": [
       "<Figure size 432x288 with 1 Axes>"
      ]
     },
     "metadata": {
      "needs_background": "light"
     },
     "output_type": "display_data"
    }
   ],
   "source": [
    "stroke_resitype=((stroke_data[stroke_data['stroke'] == 1]['Residence_type'].value_counts())/count_residence)*100\n",
    "plt.bar([\"Urban\",\"Rural\"],stroke_resitype,color=[\"violet\",\"purple\"])\n",
    "plt.show()"
   ]
  },
  {
   "cell_type": "markdown",
   "id": "ee5819af",
   "metadata": {},
   "source": [
    "Insight : Urban people are more likely to get a stroke than rural people (the difference is low)."
   ]
  },
  {
   "cell_type": "markdown",
   "id": "e0d8abe3",
   "metadata": {},
   "source": [
    "WORK TYPE :"
   ]
  },
  {
   "cell_type": "code",
   "execution_count": 85,
   "id": "c008837f",
   "metadata": {},
   "outputs": [
    {
     "data": {
      "text/plain": [
       "Private          2925\n",
       "Self-employed     819\n",
       "children          687\n",
       "Govt_job          657\n",
       "Never_worked       22\n",
       "Name: work_type, dtype: int64"
      ]
     },
     "execution_count": 85,
     "metadata": {},
     "output_type": "execute_result"
    }
   ],
   "source": [
    "count_wtype=stroke_data['work_type'].value_counts()\n",
    "count_wtype"
   ]
  },
  {
   "cell_type": "code",
   "execution_count": 86,
   "id": "d492dd43",
   "metadata": {},
   "outputs": [
    {
     "data": {
      "image/png": "[encoded data removed]",
      "text/plain": [
       "<Figure size 432x288 with 1 Axes>"
      ]
     },
     "metadata": {},
     "output_type": "display_data"
    }
   ],
   "source": [
    "work=[\"Private\",\"Self-employed\",\"children\",\"Govt_job\",\"Never_worked\"]\n",
    "plt.pie(count_wtype,labels =work)\n",
    "plt.title(\"Employment distribution :\")\n",
    "plt.show()"
   ]
  },
  {
   "cell_type": "markdown",
   "id": "98a5b5c8",
   "metadata": {},
   "source": [
    "Insight : The data has more number of private employees."
   ]
  },
  {
   "cell_type": "code",
   "execution_count": 87,
   "id": "63eadf84",
   "metadata": {},
   "outputs": [
    {
     "data": {
      "image/png": "[encoded data removed]",
      "text/plain": [
       "<Figure size 432x288 with 1 Axes>"
      ]
     },
     "metadata": {
      "needs_background": "light"
     },
     "output_type": "display_data"
    }
   ],
   "source": [
    "stroke_wtype=((stroke_data[stroke_data['stroke'] == 1]['work_type'].value_counts())/count_wtype)*100\n",
    "plt.bar(work,stroke_wtype,color=[\"blue\",\"green\",\"green\",\"red\",\"orange\"])\n",
    "plt.show()"
   ]
  },
  {
   "cell_type": "markdown",
   "id": "e4de900e",
   "metadata": {},
   "source": [
    "Insight : Goverment employees are more likely to get a stroke than the others."
   ]
  },
  {
   "cell_type": "markdown",
   "id": "82e08af5",
   "metadata": {},
   "source": [
    "SMOKING :"
   ]
  },
  {
   "cell_type": "code",
   "execution_count": 88,
   "id": "ac5e775c",
   "metadata": {},
   "outputs": [
    {
     "data": {
      "text/plain": [
       "never smoked       1892\n",
       "Unknown            1544\n",
       "formerly smoked     885\n",
       "smokes              789\n",
       "Name: smoking_status, dtype: int64"
      ]
     },
     "execution_count": 88,
     "metadata": {},
     "output_type": "execute_result"
    }
   ],
   "source": [
    "count_smoke=stroke_data['smoking_status'].value_counts()\n",
    "count_smoke"
   ]
  },
  {
   "cell_type": "code",
   "execution_count": 89,
   "id": "122c8395",
   "metadata": {},
   "outputs": [
    {
     "data": {
      "image/png": "[encoded data removed]",
      "text/plain": [
       "<Figure size 432x288 with 1 Axes>"
      ]
     },
     "metadata": {},
     "output_type": "display_data"
    }
   ],
   "source": [
    "smoke=[\"never smoked\",\"Unknown\",\"formerly smoked\",\"smokes\"]\n",
    "plt.pie(count_smoke,labels =smoke)\n",
    "plt.title(\"Smoking-wise distribution :\")\n",
    "plt.show()"
   ]
  },
  {
   "cell_type": "markdown",
   "id": "d6f86901",
   "metadata": {},
   "source": [
    "Insight : The dataset has more people who had never smoked."
   ]
  },
  {
   "cell_type": "code",
   "execution_count": 90,
   "id": "4de08fdf",
   "metadata": {},
   "outputs": [
    {
     "data": {
      "image/png": "[encoded data removed]",
      "text/plain": [
       "<Figure size 432x288 with 1 Axes>"
      ]
     },
     "metadata": {
      "needs_background": "light"
     },
     "output_type": "display_data"
    }
   ],
   "source": [
    "stroke_smoke=((stroke_data[stroke_data['stroke'] == 1]['smoking_status'].value_counts())/count_smoke)*100\n",
    "plt.bar(smoke,stroke_smoke,color=[\"blue\",\"green\",\"orange\",\"red\"])\n",
    "plt.show()"
   ]
  },
  {
   "cell_type": "markdown",
   "id": "ce49b1a7",
   "metadata": {},
   "source": [
    "Insight : As the unknown smoking status is very high we can't decide regarding smoking status."
   ]
  },
  {
   "cell_type": "markdown",
   "id": "3000f434",
   "metadata": {},
   "source": [
    "# DATA PREPROCESSING "
   ]
  },
  {
   "cell_type": "markdown",
   "id": "5911ef31",
   "metadata": {},
   "source": [
    "Checking for presence of duplicate data :"
   ]
  },
  {
   "cell_type": "code",
   "execution_count": 91,
   "id": "a4858311",
   "metadata": {},
   "outputs": [
    {
     "name": "stdout",
     "output_type": "stream",
     "text": [
      "No/of duplicate data = 0\n"
     ]
    }
   ],
   "source": [
    "print(\"No/of duplicate data =\",stroke_data.duplicated().sum())"
   ]
  },
  {
   "cell_type": "markdown",
   "id": "9d8e033a",
   "metadata": {},
   "source": [
    "Datatype of each column :"
   ]
  },
  {
   "cell_type": "code",
   "execution_count": 92,
   "id": "b5c9702d",
   "metadata": {},
   "outputs": [
    {
     "data": {
      "text/plain": [
       "id                     int64\n",
       "gender                object\n",
       "age                  float64\n",
       "hypertension           int64\n",
       "heart_disease          int64\n",
       "ever_married          object\n",
       "work_type             object\n",
       "Residence_type        object\n",
       "avg_glucose_level    float64\n",
       "bmi                  float64\n",
       "smoking_status        object\n",
       "stroke                 int64\n",
       "dtype: object"
      ]
     },
     "execution_count": 92,
     "metadata": {},
     "output_type": "execute_result"
    }
   ],
   "source": [
    "stroke_data.dtypes"
   ]
  },
  {
   "cell_type": "markdown",
   "id": "3a980331",
   "metadata": {},
   "source": [
    "Specify independent and dependent variables :"
   ]
  },
  {
   "cell_type": "code",
   "execution_count": 93,
   "id": "72f60a4a",
   "metadata": {},
   "outputs": [],
   "source": [
    "X=stroke_data.drop(['id','stroke'],axis=1)\n",
    "y=stroke_data[\"stroke\"]"
   ]
  },
  {
   "cell_type": "markdown",
   "id": "7264a513",
   "metadata": {},
   "source": [
    "Checking whether the data is balanced :"
   ]
  },
  {
   "cell_type": "code",
   "execution_count": 94,
   "id": "8ada98e7",
   "metadata": {},
   "outputs": [
    {
     "name": "stdout",
     "output_type": "stream",
     "text": [
      "0    4861\n",
      "1     249\n",
      "Name: stroke, dtype: int64\n"
     ]
    }
   ],
   "source": [
    "y_count=y.value_counts()\n",
    "print(y_count)"
   ]
  },
  {
   "cell_type": "code",
   "execution_count": 95,
   "id": "45fe08e7",
   "metadata": {},
   "outputs": [
    {
     "data": {
      "image/png": "[encoded data removed]",
      "text/plain": [
       "<Figure size 432x288 with 1 Axes>"
      ]
     },
     "metadata": {
      "needs_background": "light"
     },
     "output_type": "display_data"
    }
   ],
   "source": [
    "stroke=[\"Positive\",\"Negative\"]\n",
    "no_of_data=[y_count[0],y_count[1]]\n",
    "plt.bar(stroke,no_of_data,width=0.2,color=[\"red\",\"green\"],align=\"center\")\n",
    "plt.show()\n",
    "#The data is unbalanced with very less instances for negative stroke cases"
   ]
  },
  {
   "cell_type": "markdown",
   "id": "44f4c2c2",
   "metadata": {},
   "source": [
    "Detecting Missing values in independent variables : "
   ]
  },
  {
   "cell_type": "code",
   "execution_count": 96,
   "id": "23eef770",
   "metadata": {},
   "outputs": [
    {
     "data": {
      "text/plain": [
       "gender               False\n",
       "age                  False\n",
       "hypertension         False\n",
       "heart_disease        False\n",
       "ever_married         False\n",
       "work_type            False\n",
       "Residence_type       False\n",
       "avg_glucose_level    False\n",
       "bmi                   True\n",
       "smoking_status       False\n",
       "dtype: bool"
      ]
     },
     "execution_count": 96,
     "metadata": {},
     "output_type": "execute_result"
    }
   ],
   "source": [
    "X.isna().any()"
   ]
  },
  {
   "cell_type": "code",
   "execution_count": 97,
   "id": "7b038917",
   "metadata": {},
   "outputs": [
    {
     "data": {
      "image/png": "[encoded data removed]",
      "text/plain": [
       "<Figure size 840x280 with 3 Axes>"
      ]
     },
     "metadata": {
      "needs_background": "light"
     },
     "output_type": "display_data"
    }
   ],
   "source": [
    "color = ['red','skyblue','skyblue','skyblue','skyblue','skyblue','skyblue','skyblue','skyblue','skyblue','skyblue']\n",
    "fig, ax = plt.subplots(figsize = (12,4), dpi = 70)\n",
    "msno.bar(X, sort = 'ascending', color = color, ax = ax, fontsize =8,labels = 'off',filter = 'top')\n",
    "ax.text(-1,1.35,'NON-NULL VALUES IN THE DATA',{'font': 'arial', 'size': 24,  'color':'black'},alpha = 0.9)\n",
    "ax.set_xticklabels(ax.get_xticklabels(),rotation = 90, ha = 'center', **{'font': 'arial', 'size': 14,'weight':'normal','color':'black'}, alpha = 1)\n",
    "ax.set_yticklabels('')\n",
    "ax.spines['bottom'].set_visible(True)"
   ]
  },
  {
   "cell_type": "code",
   "execution_count": 98,
   "id": "154edb31",
   "metadata": {},
   "outputs": [
    {
     "name": "stdout",
     "output_type": "stream",
     "text": [
      "Percentage of data missing :  3.9334637964774952\n"
     ]
    }
   ],
   "source": [
    "missing=X['bmi'].isna().sum()\n",
    "total=len(X['bmi'])\n",
    "print(\"Percentage of data missing : \",(missing/total)*100)"
   ]
  },
  {
   "cell_type": "markdown",
   "id": "087e8391",
   "metadata": {},
   "source": [
    "Replacing missing values with mean (since data is numerical) :"
   ]
  },
  {
   "cell_type": "code",
   "execution_count": 99,
   "id": "cd3bcb3d",
   "metadata": {},
   "outputs": [],
   "source": [
    "X['bmi']=X['bmi'].fillna(X['bmi'].mean())"
   ]
  },
  {
   "cell_type": "code",
   "execution_count": 100,
   "id": "17217888",
   "metadata": {},
   "outputs": [
    {
     "name": "stdout",
     "output_type": "stream",
     "text": [
      "Any missing values in 'bmi' column = False\n"
     ]
    }
   ],
   "source": [
    "print(\"Any missing values in 'bmi' column =\",X['bmi'].isna().any())"
   ]
  },
  {
   "cell_type": "markdown",
   "id": "b9efc79f",
   "metadata": {},
   "source": [
    "Changing column type to categorical :"
   ]
  },
  {
   "cell_type": "code",
   "execution_count": 101,
   "id": "3a3c3940",
   "metadata": {},
   "outputs": [],
   "source": [
    "X['gender'] = X['gender'].astype('category')\n",
    "X['ever_married']=X['ever_married'].astype('category')\n",
    "X['work_type']=X['work_type'].astype('category')\n",
    "X['Residence_type']=X['Residence_type'].astype('category')\n",
    "X['smoking_status']=X['smoking_status'].astype('category')"
   ]
  },
  {
   "cell_type": "code",
   "execution_count": 102,
   "id": "037376c1",
   "metadata": {},
   "outputs": [],
   "source": [
    "categories={}\n",
    "categories['gender']=list(X['gender'].cat.categories)\n",
    "categories['ever_married']=list(X['ever_married'].cat.categories)\n",
    "categories['work_type']=list(X['work_type'].cat.categories)\n",
    "categories['Residence_type']=list(X['Residence_type'].cat.categories)\n",
    "categories['smoking_status']=list(X['smoking_status'].cat.categories)"
   ]
  },
  {
   "cell_type": "markdown",
   "id": "de109da2",
   "metadata": {},
   "source": [
    "Encoding categorical data :"
   ]
  },
  {
   "cell_type": "code",
   "execution_count": 103,
   "id": "c43d09d6",
   "metadata": {},
   "outputs": [],
   "source": [
    "X['gender'] = X['gender'].cat.codes\n",
    "X['ever_married']=X['ever_married'].cat.codes\n",
    "X['work_type']=X['work_type'].cat.codes\n",
    "X['Residence_type']=X['Residence_type'].cat.codes\n",
    "X['smoking_status']=X['smoking_status'].cat.codes"
   ]
  },
  {
   "cell_type": "code",
   "execution_count": 104,
   "id": "27a4ae07",
   "metadata": {},
   "outputs": [
    {
     "data": {
      "text/html": [
       "<div>\n",
       "<style scoped>\n",
       "    .dataframe tbody tr th:only-of-type {\n",
       "        vertical-align: middle;\n",
       "    }\n",
       "\n",
       "    .dataframe tbody tr th {\n",
       "        vertical-align: top;\n",
       "    }\n",
       "\n",
       "    .dataframe thead th {\n",
       "        text-align: right;\n",
       "    }\n",
       "</style>\n",
       "<table border=\"1\" class=\"dataframe\">\n",
       "  <thead>\n",
       "    <tr style=\"text-align: right;\">\n",
       "      <th></th>\n",
       "      <th>gender</th>\n",
       "      <th>age</th>\n",
       "      <th>hypertension</th>\n",
       "      <th>heart_disease</th>\n",
       "      <th>ever_married</th>\n",
       "      <th>work_type</th>\n",
       "      <th>Residence_type</th>\n",
       "      <th>avg_glucose_level</th>\n",
       "      <th>bmi</th>\n",
       "      <th>smoking_status</th>\n",
       "    </tr>\n",
       "  </thead>\n",
       "  <tbody>\n",
       "    <tr>\n",
       "      <th>0</th>\n",
       "      <td>1</td>\n",
       "      <td>67.0</td>\n",
       "      <td>0</td>\n",
       "      <td>1</td>\n",
       "      <td>1</td>\n",
       "      <td>2</td>\n",
       "      <td>1</td>\n",
       "      <td>228.69</td>\n",
       "      <td>36.600000</td>\n",
       "      <td>1</td>\n",
       "    </tr>\n",
       "    <tr>\n",
       "      <th>1</th>\n",
       "      <td>0</td>\n",
       "      <td>61.0</td>\n",
       "      <td>0</td>\n",
       "      <td>0</td>\n",
       "      <td>1</td>\n",
       "      <td>3</td>\n",
       "      <td>0</td>\n",
       "      <td>202.21</td>\n",
       "      <td>28.893237</td>\n",
       "      <td>2</td>\n",
       "    </tr>\n",
       "    <tr>\n",
       "      <th>2</th>\n",
       "      <td>1</td>\n",
       "      <td>80.0</td>\n",
       "      <td>0</td>\n",
       "      <td>1</td>\n",
       "      <td>1</td>\n",
       "      <td>2</td>\n",
       "      <td>0</td>\n",
       "      <td>105.92</td>\n",
       "      <td>32.500000</td>\n",
       "      <td>2</td>\n",
       "    </tr>\n",
       "    <tr>\n",
       "      <th>3</th>\n",
       "      <td>0</td>\n",
       "      <td>49.0</td>\n",
       "      <td>0</td>\n",
       "      <td>0</td>\n",
       "      <td>1</td>\n",
       "      <td>2</td>\n",
       "      <td>1</td>\n",
       "      <td>171.23</td>\n",
       "      <td>34.400000</td>\n",
       "      <td>3</td>\n",
       "    </tr>\n",
       "    <tr>\n",
       "      <th>4</th>\n",
       "      <td>0</td>\n",
       "      <td>79.0</td>\n",
       "      <td>1</td>\n",
       "      <td>0</td>\n",
       "      <td>1</td>\n",
       "      <td>3</td>\n",
       "      <td>0</td>\n",
       "      <td>174.12</td>\n",
       "      <td>24.000000</td>\n",
       "      <td>2</td>\n",
       "    </tr>\n",
       "  </tbody>\n",
       "</table>\n",
       "</div>"
      ],
      "text/plain": [
       "   gender   age  hypertension  heart_disease  ever_married  work_type  \\\n",
       "0       1  67.0             0              1             1          2   \n",
       "1       0  61.0             0              0             1          3   \n",
       "2       1  80.0             0              1             1          2   \n",
       "3       0  49.0             0              0             1          2   \n",
       "4       0  79.0             1              0             1          3   \n",
       "\n",
       "   Residence_type  avg_glucose_level        bmi  smoking_status  \n",
       "0               1             228.69  36.600000               1  \n",
       "1               0             202.21  28.893237               2  \n",
       "2               0             105.92  32.500000               2  \n",
       "3               1             171.23  34.400000               3  \n",
       "4               0             174.12  24.000000               2  "
      ]
     },
     "execution_count": 104,
     "metadata": {},
     "output_type": "execute_result"
    }
   ],
   "source": [
    "X.head()"
   ]
  },
  {
   "cell_type": "markdown",
   "id": "7c75ffdd",
   "metadata": {},
   "source": [
    "Splitting the Dataset into the Training set and Test set :"
   ]
  },
  {
   "cell_type": "code",
   "execution_count": 105,
   "id": "a5245347",
   "metadata": {},
   "outputs": [],
   "source": [
    "from sklearn.model_selection import train_test_split\n",
    "X_train, X_test, y_train, y_test = train_test_split(X, y , test_size=0.30, random_state=0)"
   ]
  },
  {
   "cell_type": "markdown",
   "id": "5b1371a9",
   "metadata": {},
   "source": [
    "Feature scaling :"
   ]
  },
  {
   "cell_type": "code",
   "execution_count": 106,
   "id": "89bbc1b8",
   "metadata": {},
   "outputs": [],
   "source": [
    "from sklearn.preprocessing import StandardScaler\n",
    "sc = StandardScaler()\n",
    "X_train = pd.DataFrame(sc.fit_transform(X_train), columns=X_train.columns)\n",
    "X_test=pd.DataFrame(sc.transform(X_test), columns=X_test.columns)"
   ]
  },
  {
   "cell_type": "markdown",
   "id": "e1309c5d",
   "metadata": {},
   "source": [
    "Handling imbalanced data :"
   ]
  },
  {
   "cell_type": "markdown",
   "id": "05bf81ea",
   "metadata": {},
   "source": [
    "Oversampling :"
   ]
  },
  {
   "cell_type": "code",
   "execution_count": 107,
   "id": "0443c3f3",
   "metadata": {},
   "outputs": [
    {
     "name": "stdout",
     "output_type": "stream",
     "text": [
      "After Oversampling using SMOTE,\n",
      "\n",
      "Number of positive instances = 3404\n",
      "Number of negative instances = 3404\n"
     ]
    }
   ],
   "source": [
    "sm = SMOTE(random_state=2)\n",
    "train_x, train_y = sm.fit_resample(X_train, y_train.ravel())\n",
    "print(\"After Oversampling using SMOTE,\\n\\nNumber of positive instances =\",sum(train_y==1))\n",
    "print(\"Number of negative instances =\",sum(train_y==0))"
   ]
  },
  {
   "cell_type": "markdown",
   "id": "015e2035",
   "metadata": {},
   "source": [
    "# INITIALIZING VARIOUS BINARY CLASSIFIERS"
   ]
  },
  {
   "cell_type": "markdown",
   "id": "98a1be83",
   "metadata": {},
   "source": [
    "# Logistic Regression :"
   ]
  },
  {
   "cell_type": "code",
   "execution_count": 108,
   "id": "d39ade6f",
   "metadata": {},
   "outputs": [],
   "source": [
    "models = {}\n",
    "from sklearn.linear_model import LogisticRegression\n",
    "models['Logistic Regression'] = LogisticRegression()"
   ]
  },
  {
   "cell_type": "markdown",
   "id": "3448f55d",
   "metadata": {},
   "source": [
    "# K-Nearest Neighbors :"
   ]
  },
  {
   "cell_type": "code",
   "execution_count": 109,
   "id": "1798ef67",
   "metadata": {},
   "outputs": [],
   "source": [
    "from sklearn.neighbors import KNeighborsClassifier\n",
    "models['K-Nearest Neighbor'] = KNeighborsClassifier()"
   ]
  },
  {
   "cell_type": "markdown",
   "id": "17bf237e",
   "metadata": {},
   "source": [
    "# Naive Bayes :"
   ]
  },
  {
   "cell_type": "code",
   "execution_count": 110,
   "id": "bf08ebca",
   "metadata": {},
   "outputs": [],
   "source": [
    "from sklearn.naive_bayes import GaussianNB\n",
    "models['Naive Bayes'] = GaussianNB()"
   ]
  },
  {
   "cell_type": "markdown",
   "id": "3c9bef54",
   "metadata": {},
   "source": [
    "# Random Forest :"
   ]
  },
  {
   "cell_type": "code",
   "execution_count": 111,
   "id": "9305e144",
   "metadata": {},
   "outputs": [],
   "source": [
    "from sklearn.ensemble import RandomForestClassifier\n",
    "models['Random Forest'] = RandomForestClassifier()"
   ]
  },
  {
   "cell_type": "markdown",
   "id": "0db4f7ab",
   "metadata": {},
   "source": [
    "# Decision Trees :"
   ]
  },
  {
   "cell_type": "code",
   "execution_count": 112,
   "id": "90c82c5c",
   "metadata": {},
   "outputs": [],
   "source": [
    "from sklearn.tree import DecisionTreeClassifier\n",
    "models['Decision Trees'] = DecisionTreeClassifier()"
   ]
  },
  {
   "cell_type": "markdown",
   "id": "1ccf2eaa",
   "metadata": {},
   "source": [
    "# Support Vector Machines :"
   ]
  },
  {
   "cell_type": "code",
   "execution_count": 113,
   "id": "f2787461",
   "metadata": {},
   "outputs": [],
   "source": [
    "from sklearn.svm import SVC\n",
    "models['Support Vector Machines'] = SVC()"
   ]
  },
  {
   "cell_type": "markdown",
   "id": "b5257f79",
   "metadata": {},
   "source": [
    "# PERFORMANCE EVALUATION"
   ]
  },
  {
   "cell_type": "code",
   "execution_count": 114,
   "id": "1a578d10",
   "metadata": {},
   "outputs": [],
   "source": [
    "from sklearn.metrics import accuracy_score, precision_score, recall_score\n",
    "accuracy, precision, recall = {}, {}, {}\n",
    "predictions={}\n",
    "for key in models.keys():\n",
    "    models[key].fit(train_x, train_y)\n",
    "    predictions[key] = models[key].predict(X_test)\n",
    "    accuracy[key] = accuracy_score(predictions[key], y_test)\n",
    "    precision[key] = precision_score(predictions[key], y_test)\n",
    "    recall[key] = recall_score(predictions[key], y_test)"
   ]
  },
  {
   "cell_type": "code",
   "execution_count": 115,
   "id": "bd4c6b41",
   "metadata": {},
   "outputs": [
    {
     "data": {
      "text/html": [
       "<div>\n",
       "<style scoped>\n",
       "    .dataframe tbody tr th:only-of-type {\n",
       "        vertical-align: middle;\n",
       "    }\n",
       "\n",
       "    .dataframe tbody tr th {\n",
       "        vertical-align: top;\n",
       "    }\n",
       "\n",
       "    .dataframe thead th {\n",
       "        text-align: right;\n",
       "    }\n",
       "</style>\n",
       "<table border=\"1\" class=\"dataframe\">\n",
       "  <thead>\n",
       "    <tr style=\"text-align: right;\">\n",
       "      <th></th>\n",
       "      <th>Accuracy</th>\n",
       "      <th>Precision</th>\n",
       "      <th>Recall</th>\n",
       "    </tr>\n",
       "  </thead>\n",
       "  <tbody>\n",
       "    <tr>\n",
       "      <th>Logistic Regression</th>\n",
       "      <td>0.757991</td>\n",
       "      <td>0.723684</td>\n",
       "      <td>0.135802</td>\n",
       "    </tr>\n",
       "    <tr>\n",
       "      <th>K-Nearest Neighbor</th>\n",
       "      <td>0.815395</td>\n",
       "      <td>0.328947</td>\n",
       "      <td>0.097276</td>\n",
       "    </tr>\n",
       "    <tr>\n",
       "      <th>Naive Bayes</th>\n",
       "      <td>0.748858</td>\n",
       "      <td>0.684211</td>\n",
       "      <td>0.125908</td>\n",
       "    </tr>\n",
       "    <tr>\n",
       "      <th>Random Forest</th>\n",
       "      <td>0.925636</td>\n",
       "      <td>0.105263</td>\n",
       "      <td>0.148148</td>\n",
       "    </tr>\n",
       "    <tr>\n",
       "      <th>Decision Trees</th>\n",
       "      <td>0.885845</td>\n",
       "      <td>0.223684</td>\n",
       "      <td>0.127820</td>\n",
       "    </tr>\n",
       "    <tr>\n",
       "      <th>Support Vector Machines</th>\n",
       "      <td>0.774299</td>\n",
       "      <td>0.578947</td>\n",
       "      <td>0.122905</td>\n",
       "    </tr>\n",
       "  </tbody>\n",
       "</table>\n",
       "</div>"
      ],
      "text/plain": [
       "                         Accuracy  Precision    Recall\n",
       "Logistic Regression      0.757991   0.723684  0.135802\n",
       "K-Nearest Neighbor       0.815395   0.328947  0.097276\n",
       "Naive Bayes              0.748858   0.684211  0.125908\n",
       "Random Forest            0.925636   0.105263  0.148148\n",
       "Decision Trees           0.885845   0.223684  0.127820\n",
       "Support Vector Machines  0.774299   0.578947  0.122905"
      ]
     },
     "execution_count": 115,
     "metadata": {},
     "output_type": "execute_result"
    }
   ],
   "source": [
    "evaluation = pd.DataFrame(index=models.keys())\n",
    "evaluation['Accuracy'] = accuracy.values()\n",
    "evaluation['Precision'] = precision.values()\n",
    "evaluation['Recall'] = recall.values()\n",
    "evaluation"
   ]
  },
  {
   "cell_type": "code",
   "execution_count": 116,
   "id": "9e1b164a",
   "metadata": {},
   "outputs": [
    {
     "data": {
      "image/png": "[encoded data removed]",
      "text/plain": [
       "<Figure size 432x288 with 1 Axes>"
      ]
     },
     "metadata": {
      "needs_background": "light"
     },
     "output_type": "display_data"
    }
   ],
   "source": [
    "ax = evaluation.plot.barh()\n",
    "ax.legend(\n",
    "    ncol=len(models.keys()), \n",
    "    bbox_to_anchor=(0, 1), \n",
    "    loc='lower left', \n",
    "    prop={'size': 10}\n",
    ")\n",
    "plt.tight_layout()"
   ]
  },
  {
   "cell_type": "markdown",
   "id": "59d76eb4",
   "metadata": {},
   "source": [
    "# MODEL TUNING"
   ]
  },
  {
   "cell_type": "code",
   "execution_count": 117,
   "id": "309abafc",
   "metadata": {},
   "outputs": [],
   "source": [
    "from sklearn.model_selection import GridSearchCV\n",
    "grid_models = [(LogisticRegression(),[{'C':[0.25,0.5,0.75,1],'random_state':[0]}]), \n",
    "               (KNeighborsClassifier(),[{'n_neighbors':[5,7,8,10], 'metric': ['euclidean', 'manhattan', 'chebyshev', 'minkowski']}]), \n",
    "               (SVC(),[{'C':[0.25,0.5,0.75,1],'kernel':['linear', 'rbf'],'random_state':[0]}]), \n",
    "               (GaussianNB(),[{'var_smoothing': [1e-09]}]), \n",
    "               (DecisionTreeClassifier(),[{'criterion':['gini','entropy'],'random_state':[0]}]), \n",
    "               (RandomForestClassifier(),[{'n_estimators':[100,150,200],'criterion':['gini','entropy'],'random_state':[0]}])]"
   ]
  },
  {
   "cell_type": "code",
   "execution_count": 118,
   "id": "86630797",
   "metadata": {},
   "outputs": [
    {
     "name": "stdout",
     "output_type": "stream",
     "text": [
      "LogisticRegression():\n",
      "Best Accuracy : 78.76%\n",
      "Best Parameters :  {'C': 0.75, 'random_state': 0}\n",
      "\n",
      "\n",
      "KNeighborsClassifier():\n",
      "Best Accuracy : 92.30%\n",
      "Best Parameters :  {'metric': 'manhattan', 'n_neighbors': 5}\n",
      "\n",
      "\n",
      "SVC():\n",
      "Best Accuracy : 86.22%\n",
      "Best Parameters :  {'C': 1, 'kernel': 'rbf', 'random_state': 0}\n",
      "\n",
      "\n",
      "GaussianNB():\n",
      "Best Accuracy : 79.07%\n",
      "Best Parameters :  {'var_smoothing': 1e-09}\n",
      "\n",
      "\n",
      "DecisionTreeClassifier():\n",
      "Best Accuracy : 92.19%\n",
      "Best Parameters :  {'criterion': 'entropy', 'random_state': 0}\n",
      "\n",
      "\n",
      "RandomForestClassifier():\n",
      "Best Accuracy : 96.31%\n",
      "Best Parameters :  {'criterion': 'entropy', 'n_estimators': 150, 'random_state': 0}\n",
      "\n",
      "\n"
     ]
    }
   ],
   "source": [
    "for i,j in grid_models:\n",
    "    grid = GridSearchCV(estimator=i,param_grid = j, scoring = 'accuracy')\n",
    "    grid.fit(train_x, train_y)\n",
    "    best_accuracy = grid.best_score_\n",
    "    best_param = grid.best_params_\n",
    "    print('{}:\\nBest Accuracy : {:.2f}%'.format(i,best_accuracy*100))\n",
    "    print('Best Parameters : ',best_param)\n",
    "    print('')\n",
    "    print('')"
   ]
  },
  {
   "cell_type": "markdown",
   "id": "3d19efdd",
   "metadata": {},
   "source": [
    "# HYPERPARAMETER TUNING :"
   ]
  },
  {
   "cell_type": "markdown",
   "id": "4a24b2fe",
   "metadata": {},
   "source": [
    "# Fitting the best model :"
   ]
  },
  {
   "cell_type": "code",
   "execution_count": 119,
   "id": "fe085324",
   "metadata": {},
   "outputs": [
    {
     "name": "stdout",
     "output_type": "stream",
     "text": [
      "              precision    recall  f1-score   support\n",
      "\n",
      "           0       0.96      0.97      0.96      1457\n",
      "           1       0.18      0.13      0.15        76\n",
      "\n",
      "    accuracy                           0.93      1533\n",
      "   macro avg       0.57      0.55      0.56      1533\n",
      "weighted avg       0.92      0.93      0.92      1533\n",
      "\n"
     ]
    }
   ],
   "source": [
    "model = RandomForestClassifier(criterion='entropy',n_estimators=150,random_state=0)\n",
    "model.fit(train_x, train_y)\n",
    "predicted=model.predict(X_test)\n",
    "from sklearn.metrics import classification_report\n",
    "print(classification_report(y_test,predicted))"
   ]
  },
  {
   "cell_type": "code",
   "execution_count": 120,
   "id": "d26c66ab",
   "metadata": {},
   "outputs": [
    {
     "name": "stdout",
     "output_type": "stream",
     "text": [
      "Accuracy of random forest classifier after hyperparameter tuning =  93.0 %\n"
     ]
    }
   ],
   "source": [
    "print(\"Accuracy of random forest classifier after hyperparameter tuning = \",round(accuracy_score(predicted, y_test)*100,0),\"%\")"
   ]
  },
  {
   "cell_type": "code",
   "execution_count": 121,
   "id": "db791bc9",
   "metadata": {},
   "outputs": [
    {
     "data": {
      "image/png": "[encoded data removed]",
      "text/plain": [
       "<Figure size 432x288 with 2 Axes>"
      ]
     },
     "metadata": {
      "needs_background": "light"
     },
     "output_type": "display_data"
    }
   ],
   "source": [
    "confusion_matrix = metrics.confusion_matrix(y_test, predicted)\n",
    "cm_display = metrics.ConfusionMatrixDisplay(confusion_matrix = confusion_matrix, display_labels = [\"negative\",\"positive\"])\n",
    "cm_display.plot()\n",
    "plt.show()"
   ]
  },
  {
   "cell_type": "code",
   "execution_count": 122,
   "id": "9a23be5b",
   "metadata": {},
   "outputs": [
    {
     "name": "stdout",
     "output_type": "stream",
     "text": [
      "Percentage of true negative =  96 %\n"
     ]
    }
   ],
   "source": [
    "print(\"Percentage of true negative = \",int(round((1412/(66+1412))*100,0)),\"%\")"
   ]
  },
  {
   "cell_type": "code",
   "execution_count": 123,
   "id": "0f0d67fa",
   "metadata": {},
   "outputs": [
    {
     "name": "stdout",
     "output_type": "stream",
     "text": [
      "gender : ['Female', 'Male', 'Other']\n",
      "1\n",
      "age :\n",
      "27\n",
      "hypertension [\"No\",\"Yes\"] :\n",
      "0\n",
      "heart_disease [\"No\",\"Yes\"] :\n",
      "0\n",
      "ever_married : ['No', 'Yes']\n",
      "1\n",
      "work_type : ['Govt_job', 'Never_worked', 'Private', 'Self-employed', 'children']\n",
      "3\n",
      "Residence_type : ['Rural', 'Urban']\n",
      "1\n",
      "avg_glucose_level :\n",
      "82.9\n",
      "bmi :\n",
      "25\n",
      "smoking_status : ['Unknown', 'formerly smoked', 'never smoked', 'smokes']\n",
      "0\n",
      "You does'nt have stroke.\n"
     ]
    },
    {
     "name": "stderr",
     "output_type": "stream",
     "text": [
      "C:\\Users\\keert\\anaconda3\\lib\\site-packages\\sklearn\\base.py:450: UserWarning: X does not have valid feature names, but RandomForestClassifier was fitted with feature names\n",
      "  warnings.warn(\n"
     ]
    }
   ],
   "source": [
    "attributes=['gender','age','hypertension [\"No\",\"Yes\"]','heart_disease [\"No\",\"Yes\"]','ever_married','work_type','Residence_type','avg_glucose_level','bmi','smoking_status']\n",
    "pred=[[0 for i in range(10)] for j in range(1)]\n",
    "i=0\n",
    "for att in attributes:\n",
    "    if(att in ['gender','ever_married','work_type','Residence_type','smoking_status']):\n",
    "        print(att,\":\",categories[att])\n",
    "    else :\n",
    "        print(att,\":\")\n",
    "    pred[0][i]=float(input())\n",
    "    i+=1\n",
    "if models['Random Forest'].predict(pred)==1:    \n",
    "    print(\"You had stroke. Please consult a neurologist!\")\n",
    "else:\n",
    "    print(\"You does'nt have stroke.\")\n",
    "warnings.filterwarnings(\"ignore\")"
   ]
  }
 ],
 "metadata": {
  "kernelspec": {
   "display_name": "Python 3",
   "language": "python",
   "name": "python3"
  },
  "language_info": {
   "codemirror_mode": {
    "name": "ipython",
    "version": 3
   },
   "file_extension": ".py",
   "mimetype": "text/x-python",
   "name": "python",
   "nbconvert_exporter": "python",
   "pygments_lexer": "ipython3",
   "version": "3.8.8"
  }
 },
 "nbformat": 4,
 "nbformat_minor": 5
}
