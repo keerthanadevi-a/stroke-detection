{
 "cells": [
  {
   "cell_type": "markdown",
   "id": "1e746f1c",
   "metadata": {},
   "source": [
    "# STROKE DETECTION"
   ]
  },
  {
   "cell_type": "markdown",
   "id": "9b258b62",
   "metadata": {},
   "source": [
    "# IMPORTING NECESSARY LIBRARIES"
   ]
  },
  {
   "cell_type": "code",
   "execution_count": 46,
   "id": "8a241232",
   "metadata": {},
   "outputs": [],
   "source": [
    "import pandas as pd\n",
    "import matplotlib.pyplot as plt\n",
    "from sklearn.model_selection import train_test_split\n",
    "from sklearn.preprocessing import StandardScaler\n",
    "from sklearn.metrics import confusion_matrix\n",
    "from sklearn.linear_model import LogisticRegression\n",
    "from sklearn.svm import LinearSVC\n",
    "from sklearn.tree import DecisionTreeClassifier\n",
    "from sklearn.ensemble import RandomForestClassifier\n",
    "from sklearn.naive_bayes import GaussianNB\n",
    "from sklearn.neighbors import KNeighborsClassifier\n",
    "import numpy as np"
   ]
  },
  {
   "cell_type": "markdown",
   "id": "3000f434",
   "metadata": {},
   "source": [
    "# DATA PREPROCESSING"
   ]
  },
  {
   "cell_type": "markdown",
   "id": "1c4d779a",
   "metadata": {},
   "source": [
    "Import heart stroke dataset :"
   ]
  },
  {
   "cell_type": "code",
   "execution_count": 47,
   "id": "6efabb35",
   "metadata": {},
   "outputs": [
    {
     "data": {
      "text/html": [
       "<div>\n",
       "<style scoped>\n",
       "    .dataframe tbody tr th:only-of-type {\n",
       "        vertical-align: middle;\n",
       "    }\n",
       "\n",
       "    .dataframe tbody tr th {\n",
       "        vertical-align: top;\n",
       "    }\n",
       "\n",
       "    .dataframe thead th {\n",
       "        text-align: right;\n",
       "    }\n",
       "</style>\n",
       "<table border=\"1\" class=\"dataframe\">\n",
       "  <thead>\n",
       "    <tr style=\"text-align: right;\">\n",
       "      <th></th>\n",
       "      <th>id</th>\n",
       "      <th>gender</th>\n",
       "      <th>age</th>\n",
       "      <th>hypertension</th>\n",
       "      <th>heart_disease</th>\n",
       "      <th>ever_married</th>\n",
       "      <th>work_type</th>\n",
       "      <th>Residence_type</th>\n",
       "      <th>avg_glucose_level</th>\n",
       "      <th>bmi</th>\n",
       "      <th>smoking_status</th>\n",
       "      <th>stroke</th>\n",
       "    </tr>\n",
       "  </thead>\n",
       "  <tbody>\n",
       "    <tr>\n",
       "      <th>0</th>\n",
       "      <td>9046</td>\n",
       "      <td>Male</td>\n",
       "      <td>67.0</td>\n",
       "      <td>0</td>\n",
       "      <td>1</td>\n",
       "      <td>Yes</td>\n",
       "      <td>Private</td>\n",
       "      <td>Urban</td>\n",
       "      <td>228.69</td>\n",
       "      <td>36.6</td>\n",
       "      <td>formerly smoked</td>\n",
       "      <td>1</td>\n",
       "    </tr>\n",
       "    <tr>\n",
       "      <th>1</th>\n",
       "      <td>51676</td>\n",
       "      <td>Female</td>\n",
       "      <td>61.0</td>\n",
       "      <td>0</td>\n",
       "      <td>0</td>\n",
       "      <td>Yes</td>\n",
       "      <td>Self-employed</td>\n",
       "      <td>Rural</td>\n",
       "      <td>202.21</td>\n",
       "      <td>NaN</td>\n",
       "      <td>never smoked</td>\n",
       "      <td>1</td>\n",
       "    </tr>\n",
       "    <tr>\n",
       "      <th>2</th>\n",
       "      <td>31112</td>\n",
       "      <td>Male</td>\n",
       "      <td>80.0</td>\n",
       "      <td>0</td>\n",
       "      <td>1</td>\n",
       "      <td>Yes</td>\n",
       "      <td>Private</td>\n",
       "      <td>Rural</td>\n",
       "      <td>105.92</td>\n",
       "      <td>32.5</td>\n",
       "      <td>never smoked</td>\n",
       "      <td>1</td>\n",
       "    </tr>\n",
       "    <tr>\n",
       "      <th>3</th>\n",
       "      <td>60182</td>\n",
       "      <td>Female</td>\n",
       "      <td>49.0</td>\n",
       "      <td>0</td>\n",
       "      <td>0</td>\n",
       "      <td>Yes</td>\n",
       "      <td>Private</td>\n",
       "      <td>Urban</td>\n",
       "      <td>171.23</td>\n",
       "      <td>34.4</td>\n",
       "      <td>smokes</td>\n",
       "      <td>1</td>\n",
       "    </tr>\n",
       "    <tr>\n",
       "      <th>4</th>\n",
       "      <td>1665</td>\n",
       "      <td>Female</td>\n",
       "      <td>79.0</td>\n",
       "      <td>1</td>\n",
       "      <td>0</td>\n",
       "      <td>Yes</td>\n",
       "      <td>Self-employed</td>\n",
       "      <td>Rural</td>\n",
       "      <td>174.12</td>\n",
       "      <td>24.0</td>\n",
       "      <td>never smoked</td>\n",
       "      <td>1</td>\n",
       "    </tr>\n",
       "  </tbody>\n",
       "</table>\n",
       "</div>"
      ],
      "text/plain": [
       "      id  gender   age  hypertension  heart_disease ever_married  \\\n",
       "0   9046    Male  67.0             0              1          Yes   \n",
       "1  51676  Female  61.0             0              0          Yes   \n",
       "2  31112    Male  80.0             0              1          Yes   \n",
       "3  60182  Female  49.0             0              0          Yes   \n",
       "4   1665  Female  79.0             1              0          Yes   \n",
       "\n",
       "       work_type Residence_type  avg_glucose_level   bmi   smoking_status  \\\n",
       "0        Private          Urban             228.69  36.6  formerly smoked   \n",
       "1  Self-employed          Rural             202.21   NaN     never smoked   \n",
       "2        Private          Rural             105.92  32.5     never smoked   \n",
       "3        Private          Urban             171.23  34.4           smokes   \n",
       "4  Self-employed          Rural             174.12  24.0     never smoked   \n",
       "\n",
       "   stroke  \n",
       "0       1  \n",
       "1       1  \n",
       "2       1  \n",
       "3       1  \n",
       "4       1  "
      ]
     },
     "execution_count": 47,
     "metadata": {},
     "output_type": "execute_result"
    }
   ],
   "source": [
    "stroke_data=pd.read_csv(r'D:\\Keethu\\MSc data science\\5th sem\\ml lab\\New folder\\healthcare-dataset-stroke-data.csv')\n",
    "stroke_data.head()"
   ]
  },
  {
   "cell_type": "markdown",
   "id": "3a980331",
   "metadata": {},
   "source": [
    "Specify independent and dependent variables :"
   ]
  },
  {
   "cell_type": "code",
   "execution_count": 48,
   "id": "72f60a4a",
   "metadata": {},
   "outputs": [],
   "source": [
    "X=stroke_data.drop(['id','stroke'],axis=1)\n",
    "y=stroke_data[\"stroke\"]"
   ]
  },
  {
   "cell_type": "markdown",
   "id": "44f4c2c2",
   "metadata": {},
   "source": [
    "Detecting Missing values in independent variables : "
   ]
  },
  {
   "cell_type": "code",
   "execution_count": 49,
   "id": "23eef770",
   "metadata": {},
   "outputs": [
    {
     "data": {
      "text/plain": [
       "gender               False\n",
       "age                  False\n",
       "hypertension         False\n",
       "heart_disease        False\n",
       "ever_married         False\n",
       "work_type            False\n",
       "Residence_type       False\n",
       "avg_glucose_level    False\n",
       "bmi                   True\n",
       "smoking_status       False\n",
       "dtype: bool"
      ]
     },
     "execution_count": 49,
     "metadata": {},
     "output_type": "execute_result"
    }
   ],
   "source": [
    "X.isna().any()"
   ]
  },
  {
   "cell_type": "code",
   "execution_count": 50,
   "id": "154edb31",
   "metadata": {},
   "outputs": [
    {
     "name": "stdout",
     "output_type": "stream",
     "text": [
      "Percentage of data missing :  3.9334637964774952\n"
     ]
    }
   ],
   "source": [
    "missing=X['bmi'].isna().sum()\n",
    "total=len(X['bmi'])\n",
    "print(\"Percentage of data missing : \",(missing/total)*100)"
   ]
  },
  {
   "cell_type": "markdown",
   "id": "087e8391",
   "metadata": {},
   "source": [
    "Replacing missing values with mean (since data is numerical) :"
   ]
  },
  {
   "cell_type": "code",
   "execution_count": 51,
   "id": "cd3bcb3d",
   "metadata": {},
   "outputs": [],
   "source": [
    "X['bmi']=X['bmi'].fillna(X['bmi'].mean())"
   ]
  },
  {
   "cell_type": "code",
   "execution_count": 52,
   "id": "17217888",
   "metadata": {},
   "outputs": [
    {
     "data": {
      "text/plain": [
       "False"
      ]
     },
     "execution_count": 52,
     "metadata": {},
     "output_type": "execute_result"
    }
   ],
   "source": [
    "X['bmi'].isna().any()"
   ]
  },
  {
   "cell_type": "markdown",
   "id": "b9efc79f",
   "metadata": {},
   "source": [
    "Changing column type to categorical :"
   ]
  },
  {
   "cell_type": "code",
   "execution_count": 53,
   "id": "3a3c3940",
   "metadata": {},
   "outputs": [],
   "source": [
    "X['gender'] = X['gender'].astype('category')\n",
    "X['ever_married']=X['ever_married'].astype('category')\n",
    "X['work_type']=X['work_type'].astype('category')\n",
    "X['Residence_type']=X['Residence_type'].astype('category')\n",
    "X['smoking_status']=X['smoking_status'].astype('category')"
   ]
  },
  {
   "cell_type": "code",
   "execution_count": 54,
   "id": "037376c1",
   "metadata": {},
   "outputs": [],
   "source": [
    "categories={}\n",
    "categories['gender']=list(X['gender'].cat.categories)\n",
    "categories['ever_married']=list(X['ever_married'].cat.categories)\n",
    "categories['work_type']=list(X['work_type'].cat.categories)\n",
    "categories['Residence_type']=list(X['Residence_type'].cat.categories)\n",
    "categories['smoking_status']=list(X['smoking_status'].cat.categories)"
   ]
  },
  {
   "cell_type": "markdown",
   "id": "de109da2",
   "metadata": {},
   "source": [
    "Encoding categorical data :"
   ]
  },
  {
   "cell_type": "code",
   "execution_count": 55,
   "id": "c43d09d6",
   "metadata": {},
   "outputs": [],
   "source": [
    "X['gender'] = X['gender'].cat.codes\n",
    "X['ever_married']=X['ever_married'].cat.codes\n",
    "X['work_type']=X['work_type'].cat.codes\n",
    "X['Residence_type']=X['Residence_type'].cat.codes\n",
    "X['smoking_status']=X['smoking_status'].cat.codes"
   ]
  },
  {
   "cell_type": "code",
   "execution_count": 56,
   "id": "27a4ae07",
   "metadata": {},
   "outputs": [
    {
     "data": {
      "text/html": [
       "<div>\n",
       "<style scoped>\n",
       "    .dataframe tbody tr th:only-of-type {\n",
       "        vertical-align: middle;\n",
       "    }\n",
       "\n",
       "    .dataframe tbody tr th {\n",
       "        vertical-align: top;\n",
       "    }\n",
       "\n",
       "    .dataframe thead th {\n",
       "        text-align: right;\n",
       "    }\n",
       "</style>\n",
       "<table border=\"1\" class=\"dataframe\">\n",
       "  <thead>\n",
       "    <tr style=\"text-align: right;\">\n",
       "      <th></th>\n",
       "      <th>gender</th>\n",
       "      <th>age</th>\n",
       "      <th>hypertension</th>\n",
       "      <th>heart_disease</th>\n",
       "      <th>ever_married</th>\n",
       "      <th>work_type</th>\n",
       "      <th>Residence_type</th>\n",
       "      <th>avg_glucose_level</th>\n",
       "      <th>bmi</th>\n",
       "      <th>smoking_status</th>\n",
       "    </tr>\n",
       "  </thead>\n",
       "  <tbody>\n",
       "    <tr>\n",
       "      <th>0</th>\n",
       "      <td>1</td>\n",
       "      <td>67.0</td>\n",
       "      <td>0</td>\n",
       "      <td>1</td>\n",
       "      <td>1</td>\n",
       "      <td>2</td>\n",
       "      <td>1</td>\n",
       "      <td>228.69</td>\n",
       "      <td>36.600000</td>\n",
       "      <td>1</td>\n",
       "    </tr>\n",
       "    <tr>\n",
       "      <th>1</th>\n",
       "      <td>0</td>\n",
       "      <td>61.0</td>\n",
       "      <td>0</td>\n",
       "      <td>0</td>\n",
       "      <td>1</td>\n",
       "      <td>3</td>\n",
       "      <td>0</td>\n",
       "      <td>202.21</td>\n",
       "      <td>28.893237</td>\n",
       "      <td>2</td>\n",
       "    </tr>\n",
       "    <tr>\n",
       "      <th>2</th>\n",
       "      <td>1</td>\n",
       "      <td>80.0</td>\n",
       "      <td>0</td>\n",
       "      <td>1</td>\n",
       "      <td>1</td>\n",
       "      <td>2</td>\n",
       "      <td>0</td>\n",
       "      <td>105.92</td>\n",
       "      <td>32.500000</td>\n",
       "      <td>2</td>\n",
       "    </tr>\n",
       "    <tr>\n",
       "      <th>3</th>\n",
       "      <td>0</td>\n",
       "      <td>49.0</td>\n",
       "      <td>0</td>\n",
       "      <td>0</td>\n",
       "      <td>1</td>\n",
       "      <td>2</td>\n",
       "      <td>1</td>\n",
       "      <td>171.23</td>\n",
       "      <td>34.400000</td>\n",
       "      <td>3</td>\n",
       "    </tr>\n",
       "    <tr>\n",
       "      <th>4</th>\n",
       "      <td>0</td>\n",
       "      <td>79.0</td>\n",
       "      <td>1</td>\n",
       "      <td>0</td>\n",
       "      <td>1</td>\n",
       "      <td>3</td>\n",
       "      <td>0</td>\n",
       "      <td>174.12</td>\n",
       "      <td>24.000000</td>\n",
       "      <td>2</td>\n",
       "    </tr>\n",
       "  </tbody>\n",
       "</table>\n",
       "</div>"
      ],
      "text/plain": [
       "   gender   age  hypertension  heart_disease  ever_married  work_type  \\\n",
       "0       1  67.0             0              1             1          2   \n",
       "1       0  61.0             0              0             1          3   \n",
       "2       1  80.0             0              1             1          2   \n",
       "3       0  49.0             0              0             1          2   \n",
       "4       0  79.0             1              0             1          3   \n",
       "\n",
       "   Residence_type  avg_glucose_level        bmi  smoking_status  \n",
       "0               1             228.69  36.600000               1  \n",
       "1               0             202.21  28.893237               2  \n",
       "2               0             105.92  32.500000               2  \n",
       "3               1             171.23  34.400000               3  \n",
       "4               0             174.12  24.000000               2  "
      ]
     },
     "execution_count": 56,
     "metadata": {},
     "output_type": "execute_result"
    }
   ],
   "source": [
    "X.head()"
   ]
  },
  {
   "cell_type": "markdown",
   "id": "7c75ffdd",
   "metadata": {},
   "source": [
    "Splitting the Dataset into the Training set and Test set :"
   ]
  },
  {
   "cell_type": "code",
   "execution_count": 57,
   "id": "a5245347",
   "metadata": {},
   "outputs": [],
   "source": [
    "from sklearn.model_selection import train_test_split\n",
    "X_train, X_test, y_train, y_test = train_test_split(X, y , test_size=0.70, random_state=0)"
   ]
  },
  {
   "cell_type": "markdown",
   "id": "5b1371a9",
   "metadata": {},
   "source": [
    "Feature scaling :"
   ]
  },
  {
   "cell_type": "code",
   "execution_count": 58,
   "id": "89bbc1b8",
   "metadata": {},
   "outputs": [],
   "source": [
    "from sklearn.preprocessing import StandardScaler\n",
    "ss_train = StandardScaler()\n",
    "X_train = ss_train.fit_transform(X_train)\n",
    "ss_test = StandardScaler()\n",
    "X_test = ss_test.fit_transform(X_test)"
   ]
  },
  {
   "cell_type": "markdown",
   "id": "015e2035",
   "metadata": {},
   "source": [
    "# INITIALIZING VARIOUS BINARY CLASSIFIERS"
   ]
  },
  {
   "cell_type": "markdown",
   "id": "98a1be83",
   "metadata": {},
   "source": [
    "# Logistic Regression :"
   ]
  },
  {
   "cell_type": "code",
   "execution_count": 59,
   "id": "d39ade6f",
   "metadata": {},
   "outputs": [],
   "source": [
    "models = {}\n",
    "from sklearn.linear_model import LogisticRegression\n",
    "models['Logistic Regression'] = LogisticRegression()"
   ]
  },
  {
   "cell_type": "markdown",
   "id": "3448f55d",
   "metadata": {},
   "source": [
    "# K-Nearest Neighbors :"
   ]
  },
  {
   "cell_type": "code",
   "execution_count": 60,
   "id": "1798ef67",
   "metadata": {},
   "outputs": [],
   "source": [
    "from sklearn.neighbors import KNeighborsClassifier\n",
    "models['K-Nearest Neighbor'] = KNeighborsClassifier()"
   ]
  },
  {
   "cell_type": "markdown",
   "id": "17bf237e",
   "metadata": {},
   "source": [
    "# Naive Bayes :"
   ]
  },
  {
   "cell_type": "code",
   "execution_count": 61,
   "id": "bf08ebca",
   "metadata": {},
   "outputs": [],
   "source": [
    "from sklearn.naive_bayes import GaussianNB\n",
    "models['Naive Bayes'] = GaussianNB()"
   ]
  },
  {
   "cell_type": "markdown",
   "id": "3c9bef54",
   "metadata": {},
   "source": [
    "# Random Forest :"
   ]
  },
  {
   "cell_type": "code",
   "execution_count": 62,
   "id": "9305e144",
   "metadata": {},
   "outputs": [],
   "source": [
    "from sklearn.ensemble import RandomForestClassifier\n",
    "models['Random Forest'] = RandomForestClassifier()"
   ]
  },
  {
   "cell_type": "markdown",
   "id": "0db4f7ab",
   "metadata": {},
   "source": [
    "# Decision Trees :"
   ]
  },
  {
   "cell_type": "code",
   "execution_count": 63,
   "id": "90c82c5c",
   "metadata": {},
   "outputs": [],
   "source": [
    "from sklearn.tree import DecisionTreeClassifier\n",
    "models['Decision Trees'] = DecisionTreeClassifier()"
   ]
  },
  {
   "cell_type": "markdown",
   "id": "b5257f79",
   "metadata": {},
   "source": [
    "# PERFORMANCE EVALUATION"
   ]
  },
  {
   "cell_type": "code",
   "execution_count": 64,
   "id": "1a578d10",
   "metadata": {},
   "outputs": [],
   "source": [
    "from sklearn.metrics import accuracy_score, precision_score, recall_score\n",
    "accuracy, precision, recall = {}, {}, {}\n",
    "for key in models.keys():\n",
    "    models[key].fit(X_train, y_train)\n",
    "    predictions = models[key].predict(X_test)\n",
    "    accuracy[key] = accuracy_score(predictions, y_test)"
   ]
  },
  {
   "cell_type": "code",
   "execution_count": 65,
   "id": "bd4c6b41",
   "metadata": {},
   "outputs": [
    {
     "data": {
      "text/html": [
       "<div>\n",
       "<style scoped>\n",
       "    .dataframe tbody tr th:only-of-type {\n",
       "        vertical-align: middle;\n",
       "    }\n",
       "\n",
       "    .dataframe tbody tr th {\n",
       "        vertical-align: top;\n",
       "    }\n",
       "\n",
       "    .dataframe thead th {\n",
       "        text-align: right;\n",
       "    }\n",
       "</style>\n",
       "<table border=\"1\" class=\"dataframe\">\n",
       "  <thead>\n",
       "    <tr style=\"text-align: right;\">\n",
       "      <th></th>\n",
       "      <th>Model</th>\n",
       "      <th>Accuracy</th>\n",
       "    </tr>\n",
       "  </thead>\n",
       "  <tbody>\n",
       "    <tr>\n",
       "      <th>0</th>\n",
       "      <td>Logistic Regression</td>\n",
       "      <td>0.952195</td>\n",
       "    </tr>\n",
       "    <tr>\n",
       "      <th>1</th>\n",
       "      <td>K-Nearest Neighbor</td>\n",
       "      <td>0.950517</td>\n",
       "    </tr>\n",
       "    <tr>\n",
       "      <th>2</th>\n",
       "      <td>Naive Bayes</td>\n",
       "      <td>0.878110</td>\n",
       "    </tr>\n",
       "    <tr>\n",
       "      <th>3</th>\n",
       "      <td>Random Forest</td>\n",
       "      <td>0.953592</td>\n",
       "    </tr>\n",
       "    <tr>\n",
       "      <th>4</th>\n",
       "      <td>Decision Trees</td>\n",
       "      <td>0.918367</td>\n",
       "    </tr>\n",
       "  </tbody>\n",
       "</table>\n",
       "</div>"
      ],
      "text/plain": [
       "                 Model  Accuracy\n",
       "0  Logistic Regression  0.952195\n",
       "1   K-Nearest Neighbor  0.950517\n",
       "2          Naive Bayes  0.878110\n",
       "3        Random Forest  0.953592\n",
       "4       Decision Trees  0.918367"
      ]
     },
     "execution_count": 65,
     "metadata": {},
     "output_type": "execute_result"
    }
   ],
   "source": [
    "evaluation = pd.DataFrame(columns=['Model','Accuracy'])\n",
    "evaluation['Model']=models.keys()\n",
    "evaluation['Accuracy'] = accuracy.values()\n",
    "\n",
    "evaluation"
   ]
  },
  {
   "cell_type": "markdown",
   "id": "d7ce7b55",
   "metadata": {},
   "source": [
    "# Best model :"
   ]
  },
  {
   "cell_type": "code",
   "execution_count": 66,
   "id": "189b645f",
   "metadata": {},
   "outputs": [
    {
     "name": "stdout",
     "output_type": "stream",
     "text": [
      "Best Model : Random Forest \n",
      "Accuracy : 95.36 %\n"
     ]
    }
   ],
   "source": [
    "best_model=evaluation[evaluation.Accuracy == evaluation.Accuracy.max()]\n",
    "b_model=best_model['Model'].loc[best_model.index[0]]\n",
    "b_accuracy=best_model['Accuracy'].loc[best_model.index[0]]*100\n",
    "print(\"Best Model :\",b_model,\"\\nAccuracy :\",round(b_accuracy,2),\"%\")"
   ]
  },
  {
   "cell_type": "code",
   "execution_count": 94,
   "id": "c030a7ba",
   "metadata": {},
   "outputs": [
    {
     "name": "stdout",
     "output_type": "stream",
     "text": [
      "Enter numerical values for gender : ['Female', 'Male', 'Other']\n",
      "1\n",
      "age :\n",
      "27\n",
      "hypertension :\n",
      "0\n",
      "heart_disease :\n",
      "0\n",
      "Enter numerical values for ever_married : ['No', 'Yes']\n",
      "1\n",
      "Enter numerical values for work_type : ['Govt_job', 'Never_worked', 'Private', 'Self-employed', 'children']\n",
      "3\n",
      "Enter numerical values for Residence_type : ['Rural', 'Urban']\n",
      "1\n",
      "avg_glucose_level :\n",
      "82.9\n",
      "bmi :\n",
      "25\n",
      "Enter numerical values for smoking_status : ['Unknown', 'formerly smoked', 'never smoked', 'smokes']\n",
      "0\n",
      "The person may not had stroke.\n"
     ]
    }
   ],
   "source": [
    "attributes=['gender','age','hypertension','heart_disease','ever_married','work_type','Residence_type','avg_glucose_level','bmi','smoking_status']\n",
    "pred=[[0 for i in range(10)] for j in range(1)]\n",
    "i=0\n",
    "for att in attributes:\n",
    "    if(att in ['gender','ever_married','work_type','Residence_type','smoking_status']):\n",
    "        print(\"Enter numerical values for\",att,\":\",categories[att])\n",
    "    else :\n",
    "        print(att,\":\")\n",
    "    pred[0][i]=float(input())\n",
    "    i+=1\n",
    "if models['Random Forest'].predict(pred)==1:    \n",
    "    print(\"The person may had stroke.\")\n",
    "else:\n",
    "    print(\"The person may not had stroke.\")"
   ]
  }
 ],
 "metadata": {
  "kernelspec": {
   "display_name": "Python 3",
   "language": "python",
   "name": "python3"
  },
  "language_info": {
   "codemirror_mode": {
    "name": "ipython",
    "version": 3
   },
   "file_extension": ".py",
   "mimetype": "text/x-python",
   "name": "python",
   "nbconvert_exporter": "python",
   "pygments_lexer": "ipython3",
   "version": "3.8.8"
  }
 },
 "nbformat": 4,
 "nbformat_minor": 5
}
